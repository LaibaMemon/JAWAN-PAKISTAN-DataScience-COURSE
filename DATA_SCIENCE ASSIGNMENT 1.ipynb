{
 "cells": [
  {
   "cell_type": "code",
   "execution_count": 9,
   "metadata": {},
   "outputs": [
    {
     "name": "stdout",
     "output_type": "stream",
     "text": [
      "Twinkle, twinkle, little star,\n",
      " How I wonder what you are!\n",
      "                 Up above the world so high, \n",
      "  Like a diamond in the sky. \n",
      " Twinkle, twinkle little star, \n",
      "         How I wonder what you are!\n"
     ]
    }
   ],
   "source": [
    "## 1. Write a Python program to print the following string in a specific format (see the output). \n",
    "#Twinkle, twinkle, little star,\n",
    "    #           How I wonder what you are!\n",
    "    #                   Up above the world so high, \n",
    "    #                   Like a diamond in the sky.\n",
    "\n",
    "    #Twinkle, twinkle, little star,\n",
    "              #How I wonder what you are\n",
    "print(\"Twinkle, twinkle, little star,\\n How I wonder what you are!\\n                 Up above the world so high, \\n  Like a diamond in the sky. \\n Twinkle, twinkle little star, \\n         How I wonder what you are!\")"
   ]
  },
  {
   "cell_type": "code",
   "execution_count": 10,
   "metadata": {},
   "outputs": [
    {
     "name": "stdout",
     "output_type": "stream",
     "text": [
      "3.8.5\n"
     ]
    }
   ],
   "source": [
    "## 2. Write a Python program to get the Python version you are using\n",
    "\n",
    "from platform import python_version\n",
    "print(python_version());"
   ]
  },
  {
   "cell_type": "code",
   "execution_count": 11,
   "metadata": {},
   "outputs": [
    {
     "name": "stdout",
     "output_type": "stream",
     "text": [
      "Current date and time:2021-24-31 18:24:17\n"
     ]
    }
   ],
   "source": [
    "## 3. Write a Python program to display the current date and time.\n",
    "\n",
    "import datetime\n",
    "now=datetime.datetime.now()\n",
    "print(\"Current date and time:\"+ now.strftime(\"%Y-%M-%d %H:%M:%S\"));"
   ]
  },
  {
   "cell_type": "code",
   "execution_count": 12,
   "metadata": {},
   "outputs": [
    {
     "name": "stdout",
     "output_type": "stream",
     "text": [
      "Raduis of circle:2\n",
      "The Area Of Circle is  2.0 is 12.566370614359172\n"
     ]
    }
   ],
   "source": [
    "## 4. Write a Python program which accepts the radius of a circle from the user and compute the area. \n",
    "\n",
    "from math import pi\n",
    "radius=float(input(\"Raduis of circle:\"))\n",
    "print(\"The Area Of Circle is  \" + str(radius)+\" is \"+str(pi*radius**2));"
   ]
  },
  {
   "cell_type": "code",
   "execution_count": null,
   "metadata": {},
   "outputs": [],
   "source": [
    "## 5. Write a Python program which accepts the user's first and last name and print them in \n",
    "#reverse order with a space between them.\n",
    "fname = input(\"Input your First Name : \")\n",
    "lname = input(\"Input your Last Name : \")\n",
    "print (lname + \" \" + fname)"
   ]
  },
  {
   "cell_type": "code",
   "execution_count": null,
   "metadata": {},
   "outputs": [],
   "source": []
  }
 ],
 "metadata": {
  "kernelspec": {
   "display_name": "Python 3",
   "language": "python",
   "name": "python3"
  },
  "language_info": {
   "codemirror_mode": {
    "name": "ipython",
    "version": 3
   },
   "file_extension": ".py",
   "mimetype": "text/x-python",
   "name": "python",
   "nbconvert_exporter": "python",
   "pygments_lexer": "ipython3",
   "version": "3.8.5"
  }
 },
 "nbformat": 4,
 "nbformat_minor": 4
}
